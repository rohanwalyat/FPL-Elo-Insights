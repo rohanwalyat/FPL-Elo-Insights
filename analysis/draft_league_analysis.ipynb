{
 "cells": [
  {
   "cell_type": "markdown",
   "metadata": {},
   "source": [
    "# FPL Draft League Analysis\n",
    "\n",
    "This notebook analyzes the FPL Draft League data to show:\n",
    "- Player picks by each manager\n",
    "- League summary statistics\n",
    "- Top available players\n",
    "- Waiver order (if available)\n",
    "\n",
    "## Setup and Data Loading"
   ]
  },
  {
   "cell_type": "code",
   "execution_count": null,
   "metadata": {},
   "outputs": [],
   "source": [
    "import pandas as pd\n",
    "import os\n",
    "from pathlib import Path\n",
    "\n",
    "# Set display options for better output\n",
    "pd.set_option('display.max_columns', None)\n",
    "pd.set_option('display.width', None)\n",
    "pd.set_option('display.max_colwidth', None)"
   ]
  },
  {
   "cell_type": "code",
   "execution_count": null,
   "metadata": {},
   "outputs": [],
   "source": [
    "def load_draft_data():\n",
    "    \"\"\"Load the latest draft league data\"\"\"\n",
    "    # Get the notebook's directory and navigate to data\n",
    "    notebook_dir = Path().absolute()\n",
    "    base_dir = notebook_dir.parent\n",
    "    data_dir = base_dir / \"data\" / \"draft_league\" / \"latest\"\n",
    "    \n",
    "    try:\n",
    "        # Load all data files\n",
    "        managers_df = pd.read_csv(data_dir / \"managers.csv\")\n",
    "        picks_df = pd.read_csv(data_dir / \"picks.csv\")\n",
    "        players_df = pd.read_csv(data_dir / \"players.csv\")\n",
    "        \n",
    "        print(f\"✅ Loaded data: {len(managers_df)} managers, {len(picks_df)} picks, {len(players_df)} players\")\n",
    "        return managers_df, picks_df, players_df\n",
    "    except FileNotFoundError as e:\n",
    "        print(f\"❌ Error loading data: {e}\")\n",
    "        print(\"Make sure to run the draft data fetch script first!\")\n",
    "        return None, None, None\n",
    "\n",
    "# Load the data\n",
    "managers_df, picks_df, players_df = load_draft_data()"
   ]
  },
  {
   "cell_type": "markdown",
   "metadata": {},
   "source": [
    "## Helper Functions"
   ]
  },
  {
   "cell_type": "code",
   "execution_count": null,
   "metadata": {},
   "outputs": [],
   "source": [
    "def get_player_info(player_id, players_df):\n",
    "    \"\"\"Get player information from player ID\"\"\"\n",
    "    player = players_df[players_df['id'] == player_id]\n",
    "    if player.empty:\n",
    "        return f\"Unknown Player (ID: {player_id})\"\n",
    "    \n",
    "    player = player.iloc[0]\n",
    "    position_map = {1: \"GKP\", 2: \"DEF\", 3: \"MID\", 4: \"FWD\"}\n",
    "    position = position_map.get(player['element_type'], \"UNK\")\n",
    "    \n",
    "    return {\n",
    "        'name': player['web_name'],\n",
    "        'full_name': f\"{player['first_name']} {player['second_name']}\",\n",
    "        'position': position,\n",
    "        'team': player['team'],\n",
    "        'total_points': player.get('total_points', 0),\n",
    "        'price': player.get('draft_rank', 0)\n",
    "    }\n",
    "\n",
    "def get_team_name(team_id, teams_data=None):\n",
    "    \"\"\"Get team name from team ID (simplified for now)\"\"\"\n",
    "    # Common team mapping - could be enhanced with teams.csv\n",
    "    team_map = {\n",
    "        1: \"ARS\", 2: \"AVL\", 3: \"BOU\", 4: \"BRE\", 5: \"BRI\",\n",
    "        6: \"CHE\", 7: \"CRY\", 8: \"EVE\", 9: \"FUL\", 10: \"IPS\",\n",
    "        11: \"LEI\", 12: \"LIV\", 13: \"MCI\", 14: \"MUN\", 15: \"NEW\",\n",
    "        16: \"NFO\", 17: \"SOU\", 18: \"TOT\", 19: \"WHU\", 20: \"WOL\"\n",
    "    }\n",
    "    return team_map.get(team_id, f\"Team {team_id}\")"
   ]
  },
  {
   "cell_type": "markdown",
   "metadata": {},
   "source": [
    "## League Summary Statistics\n",
    "\n",
    "Let's start with an overview of the league:"
   ]
  },
  {
   "cell_type": "code",
   "execution_count": null,
   "metadata": {},
   "outputs": [],
   "source": [
    "def display_summary_stats(managers_df, picks_df, players_df):\n",
    "    \"\"\"Display summary statistics\"\"\"\n",
    "    print(\"=\" * 80)\n",
    "    print(\"📈 LEAGUE SUMMARY\")\n",
    "    print(\"=\" * 80)\n",
    "    \n",
    "    picked_players = picks_df[picks_df['owner'].notna()].copy()\n",
    "    total_picked = len(picked_players)\n",
    "    total_available = len(picks_df) - total_picked\n",
    "    \n",
    "    print(f\"👥 Total Managers: {len(managers_df)}\")\n",
    "    print(f\"⚽ Players Picked: {total_picked}\")\n",
    "    print(f\"🆓 Players Available: {total_available}\")\n",
    "    print(f\"📦 Total Player Pool: {len(picks_df)}\")\n",
    "    \n",
    "    # Players per manager\n",
    "    print(f\"\\n🔢 Players per Manager:\")\n",
    "    for _, manager in managers_df.iterrows():\n",
    "        if pd.isna(manager['entry_id']) or manager['entry_id'] == '':\n",
    "            manager_picks = pd.DataFrame()\n",
    "        else:\n",
    "            manager_entry_id = int(manager['entry_id'])\n",
    "            picked_players['owner'] = picked_players['owner'].astype(int)\n",
    "            manager_picks = picked_players[picked_players['owner'] == manager_entry_id]\n",
    "        team_name = manager['entry_name']\n",
    "        print(f\"   {team_name}: {len(manager_picks)} players\")\n",
    "\n",
    "# Display summary\n",
    "if managers_df is not None:\n",
    "    display_summary_stats(managers_df, picks_df, players_df)"
   ]
  },
  {
   "cell_type": "markdown",
   "metadata": {},
   "source": [
    "## Manager Squads\n",
    "\n",
    "Let's see what players each manager has picked:"
   ]
  },
  {
   "cell_type": "code",
   "execution_count": null,
   "metadata": {},
   "outputs": [],
   "source": [
    "def display_manager_squads(managers_df, picks_df, players_df):\n",
    "    \"\"\"Display each manager's squad\"\"\"\n",
    "    print(\"=\" * 80)\n",
    "    print(\"🏆 FPL DRAFT LEAGUE - PLAYER PICKS BY MANAGER\")\n",
    "    print(\"=\" * 80)\n",
    "    \n",
    "    # Get only picked players (those with an owner)\n",
    "    picked_players = picks_df[picks_df['owner'].notna()].copy()\n",
    "    # Convert owner to int for proper matching\n",
    "    picked_players['owner'] = picked_players['owner'].astype(int)\n",
    "    \n",
    "    for _, manager in managers_df.iterrows():\n",
    "        manager_id = manager['id']\n",
    "        team_name = manager['entry_name']\n",
    "        manager_name = f\"{manager['player_first_name']} {manager['player_last_name']}\"\n",
    "        \n",
    "        print(f\"\\n🔥 {team_name}\")\n",
    "        print(f\"👤 Manager: {manager_name}\")\n",
    "        print(\"-\" * 60)\n",
    "        \n",
    "        # Get this manager's picks (picks use entry_id, not id)\n",
    "        if pd.isna(manager['entry_id']) or manager['entry_id'] == '':\n",
    "            manager_picks = pd.DataFrame()  # Empty dataframe for managers without entry_id\n",
    "        else:\n",
    "            manager_entry_id = int(manager['entry_id'])\n",
    "            manager_picks = picked_players[picked_players['owner'] == manager_entry_id]\n",
    "        \n",
    "        if manager_picks.empty:\n",
    "            print(\"   No players picked yet\")\n",
    "            continue\n",
    "        \n",
    "        # Group players by position\n",
    "        squad_by_position = {\"GKP\": [], \"DEF\": [], \"MID\": [], \"FWD\": []}\n",
    "        \n",
    "        for _, pick in manager_picks.iterrows():\n",
    "            player_info = get_player_info(pick['element'], players_df)\n",
    "            if isinstance(player_info, dict):\n",
    "                squad_by_position[player_info['position']].append(player_info)\n",
    "        \n",
    "        # Display squad by position\n",
    "        for position in [\"GKP\", \"DEF\", \"MID\", \"FWD\"]:\n",
    "            if squad_by_position[position]:\n",
    "                print(f\"\\n   {position}:\")\n",
    "                for player in sorted(squad_by_position[position], key=lambda x: x['name']):\n",
    "                    team_name = get_team_name(player['team'])\n",
    "                    points = player['total_points']\n",
    "                    print(f\"      • {player['name']} ({team_name}) - {points} pts\")\n",
    "        \n",
    "        total_players = sum(len(squad_by_position[pos]) for pos in squad_by_position)\n",
    "        print(f\"\\n   📊 Total Players: {total_players}\")\n",
    "\n",
    "# Display manager squads\n",
    "if managers_df is not None:\n",
    "    display_manager_squads(managers_df, picks_df, players_df)"
   ]
  },
  {
   "cell_type": "markdown",
   "metadata": {},
   "source": [
    "## Top Available Players\n",
    "\n",
    "Let's see who are the best available players to pick up:"
   ]
  },
  {
   "cell_type": "code",
   "execution_count": null,
   "metadata": {},
   "outputs": [],
   "source": [
    "def display_top_available_players(picks_df, players_df, limit=15):\n",
    "    \"\"\"Display top available players\"\"\"\n",
    "    print(f\"=\" * 80)\n",
    "    print(f\"🆓 TOP {limit} AVAILABLE PLAYERS\")\n",
    "    print(\"=\" * 80)\n",
    "    \n",
    "    # Get unpicked players\n",
    "    available_players = picks_df[picks_df['owner'].isna()].copy()\n",
    "    \n",
    "    if available_players.empty:\n",
    "        print(\"   No players available (all drafted)\")\n",
    "        return\n",
    "    \n",
    "    # Get player details and sort by draft rank (lower is better)\n",
    "    available_with_details = []\n",
    "    for _, pick in available_players.iterrows():\n",
    "        player_info = get_player_info(pick['element'], players_df)\n",
    "        if isinstance(player_info, dict):\n",
    "            available_with_details.append(player_info)\n",
    "    \n",
    "    # Sort by draft rank (lower rank = higher pick)\n",
    "    top_available = sorted(available_with_details, key=lambda x: x['price'])[:limit]\n",
    "    \n",
    "    print(f\"{'Player':<20} {'Team':<5} {'Pos':<4} {'Points':<7} {'Rank'}\")\n",
    "    print(\"-\" * 50)\n",
    "    \n",
    "    for player in top_available:\n",
    "        team_name = get_team_name(player['team'])\n",
    "        print(f\"{player['name']:<20} {team_name:<5} {player['position']:<4} {player['total_points']:<7} {player['price']}\")\n",
    "\n",
    "# Display top available players\n",
    "if managers_df is not None:\n",
    "    display_top_available_players(picks_df, players_df)"
   ]
  },
  {
   "cell_type": "markdown",
   "metadata": {},
   "source": [
    "## Data Exploration\n",
    "\n",
    "Let's explore the data in more detail with pandas:"
   ]
  },
  {
   "cell_type": "code",
   "execution_count": null,
   "metadata": {},
   "outputs": [],
   "source": [
    "# Display basic info about our datasets\n",
    "if managers_df is not None:\n",
    "    print(\"Managers DataFrame:\")\n",
    "    print(managers_df.head())\n",
    "    print(f\"Shape: {managers_df.shape}\")\n",
    "    print(f\"Columns: {list(managers_df.columns)}\")"
   ]
  },
  {
   "cell_type": "code",
   "execution_count": null,
   "metadata": {},
   "outputs": [],
   "source": [
    "if picks_df is not None:\n",
    "    print(\"\\nPicks DataFrame:\")\n",
    "    print(picks_df.head())\n",
    "    print(f\"Shape: {picks_df.shape}\")\n",
    "    print(f\"Columns: {list(picks_df.columns)}\")\n",
    "    \n",
    "    # Show picked vs available\n",
    "    picked_count = picks_df['owner'].notna().sum()\n",
    "    available_count = picks_df['owner'].isna().sum()\n",
    "    print(f\"\\nPicked players: {picked_count}\")\n",
    "    print(f\"Available players: {available_count}\")"
   ]
  },
  {
   "cell_type": "code",
   "execution_count": null,
   "metadata": {},
   "outputs": [],
   "source": [
    "if players_df is not None:\n",
    "    print(\"\\nPlayers DataFrame:\")\n",
    "    print(players_df.head())\n",
    "    print(f\"Shape: {players_df.shape}\")\n",
    "    print(f\"Columns: {list(players_df.columns)}\")\n",
    "    \n",
    "    # Show position distribution\n",
    "    position_map = {1: \"GKP\", 2: \"DEF\", 3: \"MID\", 4: \"FWD\"}\n",
    "    position_counts = players_df['element_type'].map(position_map).value_counts()\n",
    "    print(f\"\\nPosition distribution:\")\n",
    "    print(position_counts)"
   ]
  },
  {
   "cell_type": "markdown",
   "metadata": {},
   "source": [
    "## Advanced Analysis\n",
    "\n",
    "Let's do some more advanced analysis:"
   ]
  },
  {
   "cell_type": "code",
   "execution_count": null,
   "metadata": {},
   "outputs": [],
   "source": [
    "# Analyze the most popular teams for drafting\n",
    "if picks_df is not None and players_df is not None:\n",
    "    picked_players = picks_df[picks_df['owner'].notna()].copy()\n",
    "    \n",
    "    if not picked_players.empty:\n",
    "        # Merge with player data to get team info\n",
    "        picked_with_teams = picked_players.merge(players_df[['id', 'team']], left_on='element', right_on='id')\n",
    "        \n",
    "        # Count picks by team\n",
    "        team_picks = picked_with_teams['team'].value_counts()\n",
    "        \n",
    "        print(\"🏅 Most Drafted Teams:\")\n",
    "        print(\"-\" * 30)\n",
    "        for team_id, count in team_picks.head(10).items():\n",
    "            team_name = get_team_name(team_id)\n",
    "            print(f\"{team_name}: {count} players\")"
   ]
  },
  {
   "cell_type": "code",
   "execution_count": null,
   "metadata": {},
   "outputs": [],
   "source": [
    "# Show highest scoring available players\n",
    "if picks_df is not None and players_df is not None:\n",
    "    available_players = picks_df[picks_df['owner'].isna()].copy()\n",
    "    \n",
    "    if not available_players.empty:\n",
    "        # Merge with player data\n",
    "        available_with_stats = available_players.merge(players_df[['id', 'web_name', 'total_points', 'element_type', 'team']], \n",
    "                                                      left_on='element', right_on='id')\n",
    "        \n",
    "        # Sort by total points\n",
    "        top_scorers = available_with_stats.nlargest(10, 'total_points')\n",
    "        \n",
    "        print(\"\\n⭐ Highest Scoring Available Players:\")\n",
    "        print(\"-\" * 50)\n",
    "        position_map = {1: \"GKP\", 2: \"DEF\", 3: \"MID\", 4: \"FWD\"}\n",
    "        \n",
    "        for _, player in top_scorers.iterrows():\n",
    "            position = position_map.get(player['element_type'], \"UNK\")\n",
    "            team_name = get_team_name(player['team'])\n",
    "            print(f\"{player['web_name']:<20} ({team_name}) {position:<4} - {player['total_points']} pts\")"
   ]
  },
  {
   "cell_type": "markdown",
   "metadata": {},
   "source": [
    "## Custom Analysis\n",
    "\n",
    "You can use the loaded dataframes to do your own custom analysis:"
   ]
  },
  {
   "cell_type": "code",
   "execution_count": null,
   "metadata": {},
   "outputs": [],
   "source": [
    "# Example: Find the manager with the most total points\n",
    "if all(df is not None for df in [managers_df, picks_df, players_df]):\n",
    "    picked_players = picks_df[picks_df['owner'].notna()].copy()\n",
    "    picked_players['owner'] = picked_players['owner'].astype(int)\n",
    "    \n",
    "    # Merge with player stats\n",
    "    picks_with_stats = picked_players.merge(players_df[['id', 'total_points']], \n",
    "                                           left_on='element', right_on='id')\n",
    "    \n",
    "    # Calculate total points per manager\n",
    "    manager_points = picks_with_stats.groupby('owner')['total_points'].sum().reset_index()\n",
    "    \n",
    "    # Merge with manager names\n",
    "    manager_points = manager_points.merge(managers_df[['entry_id', 'entry_name']], \n",
    "                                         left_on='owner', right_on='entry_id')\n",
    "    \n",
    "    # Sort by total points\n",
    "    manager_points = manager_points.sort_values('total_points', ascending=False)\n",
    "    \n",
    "    print(\"🏆 Manager Rankings by Total Points:\")\n",
    "    print(\"-\" * 40)\n",
    "    for i, (_, manager) in enumerate(manager_points.iterrows(), 1):\n",
    "        print(f\"{i}. {manager['entry_name']}: {manager['total_points']} pts\")"
   ]
  },
  {
   "cell_type": "code",
   "execution_count": null,
   "metadata": {},
   "outputs": [],
   "source": [
    "# Your custom analysis here...\n",
    "# Example ideas:\n",
    "# - Position analysis (most picked positions)\n",
    "# - Price vs performance analysis\n",
    "# - Team diversity analysis\n",
    "# - etc."
   ]
  }
 ],
 "metadata": {
  "kernelspec": {
   "display_name": "Python 3",
   "language": "python",
   "name": "python3"
  },
  "language_info": {
   "codemirror_mode": {
    "name": "ipython",
    "version": 3
   },
   "file_extension": ".py",
   "mimetype": "text/x-python",
   "name": "python",
   "nbconvert_exporter": "python",
   "pygments_lexer": "ipython3",
   "version": "3.8.5"
  }
 },
 "nbformat": 4,
 "nbformat_minor": 4
}